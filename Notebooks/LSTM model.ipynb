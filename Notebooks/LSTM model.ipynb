{
 "cells": [
  {
   "cell_type": "code",
   "execution_count": 27,
   "metadata": {},
   "outputs": [],
   "source": [
    "import pandas as pd\n",
    "import numpy as np\n",
    "import quantiacsToolbox\n",
    "from keras.models import Sequential\n",
    "#from sklearn.model_selection import train_test_split\n",
    "from pmdarima import auto_arima\n",
    "import technical_analysis_functions as taf\n",
    "\n",
    "from keras.layers import LSTM\n",
    "from keras.layers import Activation, Dense\n",
    "from keras.layers import Dropout"
   ]
  },
  {
   "cell_type": "code",
   "execution_count": null,
   "metadata": {},
   "outputs": [],
   "source": [
    "# https://www.tensorflow.org/tutorials/structured_data/time_series\n",
    "# https://github.com/peter001zhang/q_trading"
   ]
  },
  {
   "cell_type": "markdown",
   "metadata": {},
   "source": [
    "# Reading Data"
   ]
  },
  {
   "cell_type": "code",
   "execution_count": null,
   "metadata": {},
   "outputs": [],
   "source": [
    "markets = ['F_AD','F_BO','F_BP','F_C','F_CC','F_CD','F_CL',\n",
    "        'F_CT','F_DX','F_EC','F_ES','F_FC','F_FV','F_GC','F_F',\n",
    "        'F_HG','F_HO','F_JY','F_KC','F_LB','F_LC','F_LN','F_MD',\n",
    "        'F_MP','F_NG','F_NQ','F_NR','F_O','F_OJ','F_PA','F_PL',\n",
    "        'F_RB','F_RU','F_S','F_SB','F_SF','F_SI','F_SM','F_TU',\n",
    "        'F_TY','F_US','F_W','F_XX','F_YM','F_AX','F_CA','F_DT',\n",
    "        'F_UB','F_UZ','F_GS','F_LX','F_DL','F_ZQ','F_VX','F_SS',\n",
    "        'F_AE','F_BG','F_BC','F_LU','F_DM','F_AH','F_CF','F_DZ',\n",
    "        'F_FB','F_FL','F_FM','F_FP','F_FY','F_GX','F_HP','F_LR',\n",
    "        'F_LQ','F_ND','F_NY','F_PQ','F_RR','F_RF','F_RP','F_RY',\n",
    "        'F_SH','F_SX','F_TR','F_EB','F_VF','F_VT','F_VW','F_GD']"
   ]
  },
  {
   "cell_type": "code",
   "execution_count": 2,
   "metadata": {},
   "outputs": [],
   "source": [
    "curr_futures = 'F_AD'\n",
    "filename = '~/Desktop/Team_Ravioli_Timeseries/tickerData/'+curr_futures+'.txt'"
   ]
  },
  {
   "cell_type": "code",
   "execution_count": 3,
   "metadata": {},
   "outputs": [],
   "source": [
    "data = pd.read_csv(filename, sep = \",\", header = None)\n",
    "data.columns = [i.strip() for i in data.iloc[0]]\n",
    "data = data[1:-1]\n",
    "data = data.apply(pd.to_numeric)\n",
    "data= data.reset_index()"
   ]
  },
  {
   "cell_type": "code",
   "execution_count": 4,
   "metadata": {},
   "outputs": [
    {
     "data": {
      "text/html": [
       "<div>\n",
       "<style scoped>\n",
       "    .dataframe tbody tr th:only-of-type {\n",
       "        vertical-align: middle;\n",
       "    }\n",
       "\n",
       "    .dataframe tbody tr th {\n",
       "        vertical-align: top;\n",
       "    }\n",
       "\n",
       "    .dataframe thead th {\n",
       "        text-align: right;\n",
       "    }\n",
       "</style>\n",
       "<table border=\"1\" class=\"dataframe\">\n",
       "  <thead>\n",
       "    <tr style=\"text-align: right;\">\n",
       "      <th></th>\n",
       "      <th>index</th>\n",
       "      <th>DATE</th>\n",
       "      <th>OPEN</th>\n",
       "      <th>HIGH</th>\n",
       "      <th>LOW</th>\n",
       "      <th>CLOSE</th>\n",
       "      <th>VOL</th>\n",
       "      <th>OI</th>\n",
       "      <th>P</th>\n",
       "      <th>R</th>\n",
       "      <th>RINFO</th>\n",
       "    </tr>\n",
       "  </thead>\n",
       "  <tbody>\n",
       "    <tr>\n",
       "      <th>0</th>\n",
       "      <td>1</td>\n",
       "      <td>19900102</td>\n",
       "      <td>77300.0</td>\n",
       "      <td>77400.0</td>\n",
       "      <td>77020.0</td>\n",
       "      <td>77020.0</td>\n",
       "      <td>125</td>\n",
       "      <td>2559</td>\n",
       "      <td>0</td>\n",
       "      <td>0</td>\n",
       "      <td>0.0</td>\n",
       "    </tr>\n",
       "    <tr>\n",
       "      <th>1</th>\n",
       "      <td>2</td>\n",
       "      <td>19900103</td>\n",
       "      <td>76890.0</td>\n",
       "      <td>77030.0</td>\n",
       "      <td>76700.0</td>\n",
       "      <td>76740.0</td>\n",
       "      <td>1495</td>\n",
       "      <td>3215</td>\n",
       "      <td>0</td>\n",
       "      <td>0</td>\n",
       "      <td>0.0</td>\n",
       "    </tr>\n",
       "    <tr>\n",
       "      <th>2</th>\n",
       "      <td>3</td>\n",
       "      <td>19900104</td>\n",
       "      <td>77080.0</td>\n",
       "      <td>77610.0</td>\n",
       "      <td>77000.0</td>\n",
       "      <td>77490.0</td>\n",
       "      <td>932</td>\n",
       "      <td>3122</td>\n",
       "      <td>0</td>\n",
       "      <td>0</td>\n",
       "      <td>0.0</td>\n",
       "    </tr>\n",
       "    <tr>\n",
       "      <th>3</th>\n",
       "      <td>4</td>\n",
       "      <td>19900105</td>\n",
       "      <td>77050.0</td>\n",
       "      <td>77280.0</td>\n",
       "      <td>76980.0</td>\n",
       "      <td>76980.0</td>\n",
       "      <td>272</td>\n",
       "      <td>2542</td>\n",
       "      <td>0</td>\n",
       "      <td>0</td>\n",
       "      <td>0.0</td>\n",
       "    </tr>\n",
       "    <tr>\n",
       "      <th>4</th>\n",
       "      <td>5</td>\n",
       "      <td>19900108</td>\n",
       "      <td>77280.0</td>\n",
       "      <td>77300.0</td>\n",
       "      <td>77090.0</td>\n",
       "      <td>77200.0</td>\n",
       "      <td>177</td>\n",
       "      <td>2430</td>\n",
       "      <td>0</td>\n",
       "      <td>0</td>\n",
       "      <td>0.0</td>\n",
       "    </tr>\n",
       "  </tbody>\n",
       "</table>\n",
       "</div>"
      ],
      "text/plain": [
       "   index      DATE     OPEN     HIGH      LOW    CLOSE   VOL    OI  P  R  \\\n",
       "0      1  19900102  77300.0  77400.0  77020.0  77020.0   125  2559  0  0   \n",
       "1      2  19900103  76890.0  77030.0  76700.0  76740.0  1495  3215  0  0   \n",
       "2      3  19900104  77080.0  77610.0  77000.0  77490.0   932  3122  0  0   \n",
       "3      4  19900105  77050.0  77280.0  76980.0  76980.0   272  2542  0  0   \n",
       "4      5  19900108  77280.0  77300.0  77090.0  77200.0   177  2430  0  0   \n",
       "\n",
       "   RINFO  \n",
       "0    0.0  \n",
       "1    0.0  \n",
       "2    0.0  \n",
       "3    0.0  \n",
       "4    0.0  "
      ]
     },
     "execution_count": 4,
     "metadata": {},
     "output_type": "execute_result"
    }
   ],
   "source": [
    "data.head()"
   ]
  },
  {
   "cell_type": "code",
   "execution_count": null,
   "metadata": {},
   "outputs": [],
   "source": [
    "min(data['DATE'])"
   ]
  },
  {
   "cell_type": "markdown",
   "metadata": {},
   "source": [
    "# Preprocess Data"
   ]
  },
  {
   "cell_type": "code",
   "execution_count": 11,
   "metadata": {},
   "outputs": [
    {
     "data": {
      "text/plain": [
       "[7056]"
      ]
     },
     "execution_count": 11,
     "metadata": {},
     "output_type": "execute_result"
    }
   ],
   "source": [
    "data.index[data['DATE'] == 20180119].tolist()"
   ]
  },
  {
   "cell_type": "code",
   "execution_count": 13,
   "metadata": {},
   "outputs": [
    {
     "data": {
      "text/plain": [
       "79941.27761540363"
      ]
     },
     "execution_count": 13,
     "metadata": {},
     "output_type": "execute_result"
    }
   ],
   "source": [
    "# auto arima data input\n",
    "train_data = data.iloc[0:7056]\n",
    "model = auto_arima(train_data['CLOSE'], error_action='ignore', suppress_warnings=True, seasonal=True, m=4)\n",
    "model.predict(n_periods=1)[0]"
   ]
  },
  {
   "cell_type": "code",
   "execution_count": 5,
   "metadata": {},
   "outputs": [],
   "source": [
    "# technical analysis data input\n",
    "data['TRIX'] = taf.TRIX(data, 5)\n",
    "data['VWAP'] = taf.VWAP(data, 5)\n",
    "data['RSI_S'] = taf.RSI_S(data, 5)\n",
    "data['SMA'] = taf.SMA(data, 5)\n",
    "data['EMA'] = taf.EMA(data, 5)"
   ]
  },
  {
   "cell_type": "code",
   "execution_count": 6,
   "metadata": {},
   "outputs": [
    {
     "data": {
      "text/html": [
       "<div>\n",
       "<style scoped>\n",
       "    .dataframe tbody tr th:only-of-type {\n",
       "        vertical-align: middle;\n",
       "    }\n",
       "\n",
       "    .dataframe tbody tr th {\n",
       "        vertical-align: top;\n",
       "    }\n",
       "\n",
       "    .dataframe thead th {\n",
       "        text-align: right;\n",
       "    }\n",
       "</style>\n",
       "<table border=\"1\" class=\"dataframe\">\n",
       "  <thead>\n",
       "    <tr style=\"text-align: right;\">\n",
       "      <th></th>\n",
       "      <th>index</th>\n",
       "      <th>DATE</th>\n",
       "      <th>OPEN</th>\n",
       "      <th>HIGH</th>\n",
       "      <th>LOW</th>\n",
       "      <th>CLOSE</th>\n",
       "      <th>VOL</th>\n",
       "      <th>OI</th>\n",
       "      <th>P</th>\n",
       "      <th>R</th>\n",
       "      <th>RINFO</th>\n",
       "      <th>TRIX</th>\n",
       "      <th>VWAP</th>\n",
       "      <th>RSI_S</th>\n",
       "      <th>SMA</th>\n",
       "      <th>EMA</th>\n",
       "    </tr>\n",
       "  </thead>\n",
       "  <tbody>\n",
       "    <tr>\n",
       "      <th>0</th>\n",
       "      <td>1</td>\n",
       "      <td>19900102</td>\n",
       "      <td>77300.0</td>\n",
       "      <td>77400.0</td>\n",
       "      <td>77020.0</td>\n",
       "      <td>77020.0</td>\n",
       "      <td>125</td>\n",
       "      <td>2559</td>\n",
       "      <td>0</td>\n",
       "      <td>0</td>\n",
       "      <td>0.0</td>\n",
       "      <td>77020.000000</td>\n",
       "      <td>77020.000000</td>\n",
       "      <td>0.000000</td>\n",
       "      <td>77020.000000</td>\n",
       "      <td>77020.000000</td>\n",
       "    </tr>\n",
       "    <tr>\n",
       "      <th>1</th>\n",
       "      <td>2</td>\n",
       "      <td>19900103</td>\n",
       "      <td>76890.0</td>\n",
       "      <td>77030.0</td>\n",
       "      <td>76700.0</td>\n",
       "      <td>76740.0</td>\n",
       "      <td>1495</td>\n",
       "      <td>3215</td>\n",
       "      <td>0</td>\n",
       "      <td>0</td>\n",
       "      <td>0.0</td>\n",
       "      <td>77009.629630</td>\n",
       "      <td>76761.604938</td>\n",
       "      <td>0.000000</td>\n",
       "      <td>76880.000000</td>\n",
       "      <td>76926.666667</td>\n",
       "    </tr>\n",
       "    <tr>\n",
       "      <th>2</th>\n",
       "      <td>3</td>\n",
       "      <td>19900104</td>\n",
       "      <td>77080.0</td>\n",
       "      <td>77610.0</td>\n",
       "      <td>77000.0</td>\n",
       "      <td>77490.0</td>\n",
       "      <td>932</td>\n",
       "      <td>3122</td>\n",
       "      <td>0</td>\n",
       "      <td>0</td>\n",
       "      <td>0.0</td>\n",
       "      <td>77016.666667</td>\n",
       "      <td>77027.617555</td>\n",
       "      <td>72.815534</td>\n",
       "      <td>77083.333333</td>\n",
       "      <td>77114.444444</td>\n",
       "    </tr>\n",
       "    <tr>\n",
       "      <th>3</th>\n",
       "      <td>4</td>\n",
       "      <td>19900105</td>\n",
       "      <td>77050.0</td>\n",
       "      <td>77280.0</td>\n",
       "      <td>76980.0</td>\n",
       "      <td>76980.0</td>\n",
       "      <td>272</td>\n",
       "      <td>2542</td>\n",
       "      <td>0</td>\n",
       "      <td>0</td>\n",
       "      <td>0.0</td>\n",
       "      <td>77025.679012</td>\n",
       "      <td>77023.031161</td>\n",
       "      <td>48.701299</td>\n",
       "      <td>77057.500000</td>\n",
       "      <td>77069.629630</td>\n",
       "    </tr>\n",
       "    <tr>\n",
       "      <th>4</th>\n",
       "      <td>5</td>\n",
       "      <td>19900108</td>\n",
       "      <td>77280.0</td>\n",
       "      <td>77300.0</td>\n",
       "      <td>77090.0</td>\n",
       "      <td>77200.0</td>\n",
       "      <td>177</td>\n",
       "      <td>2430</td>\n",
       "      <td>0</td>\n",
       "      <td>0</td>\n",
       "      <td>0.0</td>\n",
       "      <td>77039.396433</td>\n",
       "      <td>77033.468844</td>\n",
       "      <td>55.113636</td>\n",
       "      <td>77086.000000</td>\n",
       "      <td>77113.086420</td>\n",
       "    </tr>\n",
       "  </tbody>\n",
       "</table>\n",
       "</div>"
      ],
      "text/plain": [
       "   index      DATE     OPEN     HIGH      LOW    CLOSE   VOL    OI  P  R  \\\n",
       "0      1  19900102  77300.0  77400.0  77020.0  77020.0   125  2559  0  0   \n",
       "1      2  19900103  76890.0  77030.0  76700.0  76740.0  1495  3215  0  0   \n",
       "2      3  19900104  77080.0  77610.0  77000.0  77490.0   932  3122  0  0   \n",
       "3      4  19900105  77050.0  77280.0  76980.0  76980.0   272  2542  0  0   \n",
       "4      5  19900108  77280.0  77300.0  77090.0  77200.0   177  2430  0  0   \n",
       "\n",
       "   RINFO          TRIX          VWAP      RSI_S           SMA           EMA  \n",
       "0    0.0  77020.000000  77020.000000   0.000000  77020.000000  77020.000000  \n",
       "1    0.0  77009.629630  76761.604938   0.000000  76880.000000  76926.666667  \n",
       "2    0.0  77016.666667  77027.617555  72.815534  77083.333333  77114.444444  \n",
       "3    0.0  77025.679012  77023.031161  48.701299  77057.500000  77069.629630  \n",
       "4    0.0  77039.396433  77033.468844  55.113636  77086.000000  77113.086420  "
      ]
     },
     "execution_count": 6,
     "metadata": {},
     "output_type": "execute_result"
    }
   ],
   "source": [
    "data.head()"
   ]
  },
  {
   "cell_type": "code",
   "execution_count": 21,
   "metadata": {},
   "outputs": [],
   "source": [
    "# 60:20:20\n",
    "df = data[['CLOSE', 'TRIX', 'VWAP', 'RSI_S', 'SMA', 'EMA']]\n",
    "\n",
    "df_train = df.iloc[1:int(len(data)*0.6)]\n",
    "df_val = df.iloc[int(len(data)*0.6):int(len(data)*0.8)]\n",
    "df_test =  df.iloc[int(len(data)*0.8):]"
   ]
  },
  {
   "cell_type": "code",
   "execution_count": 35,
   "metadata": {},
   "outputs": [],
   "source": [
    "def LSTM_model(inputs, activ_func=\"linear\", dropout=0.10, loss=\"mae\", optimizer=\"adam\"):\n",
    "    model = Sequential()\n",
    "    \n",
    "    model.add(LSTM(64, input_shape=(inputs.shape[0], inputs.shape[1])))\n",
    "    model.add(Dropout(dropout))\n",
    "    model.add(Dense(units=128))\n",
    "    model.add(Dense(units=1))\n",
    "    model.add(Activation(activ_func))\n",
    "    \n",
    "    model.compile(loss=loss, optimizer=optimizer)\n",
    "    \n",
    "    return model"
   ]
  },
  {
   "cell_type": "code",
   "execution_count": 36,
   "metadata": {},
   "outputs": [
    {
     "name": "stdout",
     "output_type": "stream",
     "text": [
      "WARNING:tensorflow:From /Users/user/.pyenv/versions/anaconda3-5.2.0/lib/python3.6/site-packages/tensorflow/python/ops/resource_variable_ops.py:435: colocate_with (from tensorflow.python.framework.ops) is deprecated and will be removed in a future version.\n",
      "Instructions for updating:\n",
      "Colocations handled automatically by placer.\n"
     ]
    },
    {
     "data": {
      "text/plain": [
       "<keras.engine.sequential.Sequential at 0x1793dacf8>"
      ]
     },
     "execution_count": 36,
     "metadata": {},
     "output_type": "execute_result"
    }
   ],
   "source": [
    "LSTM_model(df_train.to_numpy())"
   ]
  },
  {
   "cell_type": "code",
   "execution_count": null,
   "metadata": {},
   "outputs": [],
   "source": []
  }
 ],
 "metadata": {
  "kernelspec": {
   "display_name": "Python 3",
   "language": "python",
   "name": "python3"
  },
  "language_info": {
   "codemirror_mode": {
    "name": "ipython",
    "version": 3
   },
   "file_extension": ".py",
   "mimetype": "text/x-python",
   "name": "python",
   "nbconvert_exporter": "python",
   "pygments_lexer": "ipython3",
   "version": "3.6.5"
  }
 },
 "nbformat": 4,
 "nbformat_minor": 2
}
